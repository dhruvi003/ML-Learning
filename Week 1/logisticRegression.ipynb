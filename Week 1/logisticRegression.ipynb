{
  "nbformat": 4,
  "nbformat_minor": 0,
  "metadata": {
    "colab": {
      "provenance": []
    },
    "kernelspec": {
      "name": "python3",
      "display_name": "Python 3"
    },
    "language_info": {
      "name": "python"
    }
  },
  "cells": [
    {
      "cell_type": "code",
      "execution_count": null,
      "metadata": {
        "id": "S6FxiocHk0EX"
      },
      "outputs": [],
      "source": [
        "def logisticRegression(X,Y, learning_rate = 0.001, weights = None, bias=None, n_iterations=1000,X_test=None):\n",
        "    # Remove these lines to avoid re-initializing weights and bias\n",
        "    # weights = np.zeros(X.shape[1])\n",
        "    # bias = 0\n",
        "    if weights is None:\n",
        "        weights = np.zeros(X.shape[1])\n",
        "    if bias is None:\n",
        "        bias = 0\n",
        "\n",
        "    weights, bias = fit(X,Y, n_iterations, weights, bias, learning_rate)\n",
        "\n",
        "    predictions = predict(X_test, bias, weights)\n",
        "    return predictions"
      ]
    },
    {
      "cell_type": "code",
      "source": [
        "import numpy as np\n",
        "import pandas as pd"
      ],
      "metadata": {
        "id": "7Vm5fgxrlwxw"
      },
      "execution_count": null,
      "outputs": []
    },
    {
      "cell_type": "code",
      "source": [
        "def sigmoid(X):\n",
        "  return 1/(1+np.exp(-X))"
      ],
      "metadata": {
        "id": "tKxm5HRLmZgC"
      },
      "execution_count": null,
      "outputs": []
    },
    {
      "cell_type": "code",
      "source": [
        "def fit(X,Y,n_iterations,weights, bias, learning_rate):\n",
        "    train_data, features = X.shape\n",
        "    # weights = np.zeros(features) # Remove this line\n",
        "    # bias = bias # Remove this line\n",
        "\n",
        "    for _ in range(n_iterations):\n",
        "        linear_value = np.dot(X, weights) + bias\n",
        "        y_pred = sigmoid(linear_value)\n",
        "\n",
        "        dw = 1/train_data * np.dot(X.T, (y_pred - Y ))\n",
        "        db = 1/train_data * np.sum(y_pred - Y)\n",
        "\n",
        "        weights = weights - (dw * learning_rate )\n",
        "        bias = bias - (db*learning_rate)\n",
        "    return weights, bias"
      ],
      "metadata": {
        "id": "ndvRoV_NlWw3"
      },
      "execution_count": null,
      "outputs": []
    },
    {
      "cell_type": "code",
      "source": [
        "def predict(X, bias, weights):\n",
        "    linear_value = np.dot(X, weights) + bias\n",
        "    y_pred = sigmoid(linear_value)\n",
        "    y_pred_class = [1 if i > 0.5 else 0 for i in y_pred]\n",
        "    return y_pred_class\n"
      ],
      "metadata": {
        "id": "c1egiI4MoFzG"
      },
      "execution_count": null,
      "outputs": []
    },
    {
      "cell_type": "code",
      "source": [
        "from sklearn.model_selection import train_test_split\n",
        "from sklearn.metrics import accuracy_score\n",
        "from sklearn.datasets import load_breast_cancer\n",
        "from sklearn import datasets\n"
      ],
      "metadata": {
        "id": "uoJDqq_DpDRn"
      },
      "execution_count": null,
      "outputs": []
    },
    {
      "cell_type": "code",
      "source": [
        "bc = datasets.load_breast_cancer()"
      ],
      "metadata": {
        "id": "Uubrr6X4pPqE"
      },
      "execution_count": null,
      "outputs": []
    },
    {
      "cell_type": "code",
      "source": [
        "X,y = bc.data, bc.target\n",
        "X_train, X_test, y_train, y_test = train_test_split(X, y, test_size=0.2, random_state=1234)"
      ],
      "metadata": {
        "id": "gXIckR43pYX9"
      },
      "execution_count": null,
      "outputs": []
    },
    {
      "cell_type": "code",
      "source": [
        "y_pred = logisticRegression(X_train, y_train, learning_rate = 0.0001, n_iterations=1000,X_test=X_test)"
      ],
      "metadata": {
        "id": "9HoWCRhhpfZt"
      },
      "execution_count": null,
      "outputs": []
    },
    {
      "cell_type": "code",
      "source": [
        "print(accuracy_score(y_test,y_pred))"
      ],
      "metadata": {
        "colab": {
          "base_uri": "https://localhost:8080/"
        },
        "id": "CfrodFLJpm5X",
        "outputId": "0c1bbbc8-256b-416d-b9a4-5e8b7f051206"
      },
      "execution_count": null,
      "outputs": [
        {
          "output_type": "stream",
          "name": "stdout",
          "text": [
            "0.9298245614035088\n"
          ]
        }
      ]
    }
  ]
}